{
  "nbformat": 4,
  "nbformat_minor": 0,
  "metadata": {
    "colab": {
      "name": "10-modeling-rf.ipynb",
      "provenance": [],
      "collapsed_sections": [
        "mVmbPqkAuF1F"
      ],
      "toc_visible": true
    },
    "kernelspec": {
      "name": "python373jvsc74a57bd077b122b46b811bf25a94c2daf71b0b6b5d8e93bff1d9be67645d638b69bd8036",
      "display_name": "Python 3.7.3 64-bit ('ds21_capstone': virtualenvwrapper)"
    },
    "language_info": {
      "name": "python",
      "version": "3.7.3"
    }
  },
  "cells": [
    {
      "cell_type": "markdown",
      "metadata": {
        "id": "8hk66YlJ9yTC"
      },
      "source": [
        "# 10-Modeling\n",
        "---\n",
        "\n",
        "Brief Intro Here --- Performing RANDOM FOREST instead of Linear model analysis (like in the other notebook)\n",
        "\n",
        "During initial testing (right now) we will focus on predicting the Abdominal Pain Index (API) -- `api_tot_recode0_4_post`"
      ]
    },
    {
      "cell_type": "markdown",
      "metadata": {
        "id": "bRPikH6k9yTJ"
      },
      "source": [
        "## Import Packages + Setup"
      ]
    },
    {
      "cell_type": "code",
      "metadata": {
        "id": "oGZvzps09yTK"
      },
      "source": [
        "%matplotlib inline\n",
        "import math\n",
        "import numpy as np\n",
        "import pandas as pd\n",
        "import pickle\n",
        "import os\n",
        "\n",
        "from pathlib import Path\n",
        "from datetime import datetime\n",
        "\n",
        "# Plotting\n",
        "import matplotlib.pyplot as plt\n",
        "from matplotlib import rcParams\n",
        "import seaborn as sns\n",
        "\n",
        "# SKLEARN\n",
        "from sklearn.pipeline import Pipeline\n",
        "from sklearn.utils import resample\n",
        "from sklearn.metrics import mean_squared_error, r2_score, mean_absolute_error\n",
        "from sklearn.preprocessing import MinMaxScaler\n",
        "\n",
        "from sklearn import linear_model\n",
        "from sklearn.ensemble import RandomForestRegressor, RandomForestClassifier\n",
        "from sklearn.model_selection import GridSearchCV, RandomizedSearchCV, train_test_split\n",
        "from sklearn.impute import KNNImputer\n",
        "\n",
        "from imblearn.over_sampling import RandomOverSampler\n",
        "\n",
        "# stats models\n",
        "import statsmodels.api as sm\n",
        "from scipy import stats\n",
        "\n",
        "# Printint output\n",
        "from IPython.core.interactiveshell import InteractiveShell"
      ],
      "execution_count": 6,
      "outputs": []
    },
    {
      "cell_type": "markdown",
      "metadata": {
        "id": "uheeVPwNQJwo"
      },
      "source": [
        "# Define Functions\n",
        "---\n",
        "\n",
        "Here we are defining our functions that both perform the out-of-bootstrap sampling but also collect and save the results in a nice, friendly manner!"
      ]
    },
    {
      "cell_type": "code",
      "metadata": {
        "id": "ICDq4uxEQJFs"
      },
      "source": [
        "def rf_bootstrap(n, k, param_grid, seeds, target_field, pipe, \n",
        "                 target_data, X_data, samples=None, error = 'mae',\n",
        "                 impute_knn = False):\n",
        "    \"\"\"\n",
        "    n: Number of loops / iterations\n",
        "    k: cross-folds\n",
        "    seeds: list of seeds for resampling\n",
        "    target_fields: target variable\n",
        "    target_data: target data + other data (subgroup, treatment, etc)\n",
        "    X_data: predictors\n",
        "\n",
        "    Returns\n",
        "    ----\n",
        "    model_store: list. Best model from each iteration. Includes feature importance\n",
        "    model_results: mae, var, median mae for each iteration.\n",
        "    \"\"\"\n",
        "    pd.set_option('mode.chained_assignment',None)\n",
        "\n",
        "    # Output Variables\n",
        "    model_results = {\n",
        "        'overall': {\n",
        "            error : [],\n",
        "            'median': [],\n",
        "            'var': []\n",
        "        },\n",
        "        'study_group': {\n",
        "            'CBT': {\n",
        "                error : [],\n",
        "                'median': [],\n",
        "                'var': []\n",
        "            },\n",
        "            'EDU': {\n",
        "                error : [],\n",
        "                'median': [],\n",
        "                'var': []\n",
        "            }\n",
        "        },\n",
        "        'fap_subgroup': {\n",
        "            'HPD': {\n",
        "                error : [],\n",
        "                'median': [],\n",
        "                'var': []\n",
        "            },\n",
        "            'HPA': {\n",
        "                error : [],\n",
        "                'median': [],\n",
        "                'var': []\n",
        "            },\n",
        "            'LPA': {\n",
        "                error : [],\n",
        "                'median': [],\n",
        "                'var': []\n",
        "            }\n",
        "            \n",
        "        }\n",
        "    }\n",
        "\n",
        "    model_store = []\n",
        "    saved_predictions = pd.DataFrame()\n",
        "\n",
        "    # MODEL LOOP\n",
        "    # OUTER LOOOP - OOB BOOSTRAP\n",
        "    for outer_loop in range(n):\n",
        "        X_train, y_data = resample(X_data, target_data, replace = True, \n",
        "                                    n_samples = samples, random_state = seeds[outer_loop])\n",
        "        \n",
        "        y_train = y_data[target_field]\n",
        "        \n",
        "        # INNER LOOP - K-FOLD CV (GRID SEARCH)\n",
        "        # Define socring based on metric\n",
        "        if error == 'mae':\n",
        "            scoring = 'neg_mean_absolute_error'\n",
        "        else:\n",
        "            scoring = 'neg_mean_squared_error'\n",
        "\n",
        "        gs = RandomizedSearchCV(\n",
        "                pipe, \n",
        "                param_distributions = param_grid, \n",
        "                cv = k,\n",
        "                scoring=scoring, \n",
        "                n_jobs=-1)\n",
        "\n",
        "        \n",
        "        # Cross Validation Fit\n",
        "        gs.fit(X_train, y_train)\n",
        "        \n",
        "        # store best model\n",
        "        best_model = gs.best_estimator_.named_steps['clf']  # this is the same\n",
        "        model_store.append(best_model)\n",
        "\n",
        "        # Get best model params\n",
        "        best_params = best_model.get_params()\n",
        "        best_params['oob_score'] = True\n",
        "        \n",
        "        # fit full dataset\n",
        "        # IMPUTE VALUES AS NEEDED\n",
        "        if impute_knn:\n",
        "            imputer = KNNImputer(n_neighbors=impute_knn)\n",
        "            x_train_impute = imputer.fit_transform(X_train)\n",
        "\n",
        "            X_train = pd.DataFrame(\n",
        "                data = x_train_impute,\n",
        "                columns = X_train.columns.values,\n",
        "                index = X_train.index.values   \n",
        "            )\n",
        "            \n",
        "        rf_best = RandomForestRegressor(**best_params)\n",
        "        rf_best.fit(X_train, y_train)\n",
        "        y_data['prediction'] = rf_best.oob_prediction_\n",
        "\n",
        "        # Predictions added to df + save (`saved_predictions`)\n",
        "        y_data[error] = abs(y_data[target_field] - y_data['prediction'])\n",
        "        saved_predictions = pd.concat([saved_predictions, y_data])\n",
        "        \n",
        "        # STORE RESULTS\n",
        "        tmp_overall = y_data[error].agg(['mean', 'median', 'var'])\n",
        "        tmp_treatment = y_data[[error, 'study_group']].groupby('study_group').agg(['mean', 'median', 'var'])\n",
        "        tmp_subgroup = y_data[[error, 'cluster2019_base']].groupby('cluster2019_base').agg(['mean', 'median', 'var'])\n",
        "\n",
        "        \n",
        "        # overall results\n",
        "        model_results['overall'][error].append(tmp_overall['mean'])\n",
        "        model_results['overall']['median'].append(tmp_overall['median'])\n",
        "        model_results['overall']['var'].append(tmp_overall['var'])\n",
        "\n",
        "\n",
        "        # Study Group (Treatment)\n",
        "        model_results['study_group']['CBT'][error].append(tmp_treatment[error]['mean'][3])\n",
        "        model_results['study_group']['CBT']['median'].append(tmp_treatment[error]['median'][3])\n",
        "        model_results['study_group']['CBT']['var'].append(tmp_treatment[error]['var'][3])\n",
        "\n",
        "        model_results['study_group']['EDU'][error].append(tmp_treatment[error]['mean'][1])\n",
        "        model_results['study_group']['EDU']['median'].append(tmp_treatment[error]['median'][1])\n",
        "        model_results['study_group']['EDU']['var'].append(tmp_treatment[error]['var'][1])\n",
        "\n",
        "\n",
        "        # FAP Classification\n",
        "        model_results['fap_subgroup']['HPD'][error].append(tmp_subgroup[error]['mean'][1])\n",
        "        model_results['fap_subgroup']['HPD']['median'].append(tmp_subgroup[error]['median'][1])\n",
        "        model_results['fap_subgroup']['HPD']['var'].append(tmp_subgroup[error]['var'][1])\n",
        "\n",
        "        model_results['fap_subgroup']['HPA'][error].append(tmp_subgroup[error]['mean'][2])\n",
        "        model_results['fap_subgroup']['HPA']['median'].append(tmp_subgroup[error]['median'][2])\n",
        "        model_results['fap_subgroup']['HPA']['var'].append(tmp_subgroup[error]['var'][2])\n",
        "\n",
        "        model_results['fap_subgroup']['LPA'][error].append(tmp_subgroup[error]['mean'][3])\n",
        "        model_results['fap_subgroup']['LPA']['median'].append(tmp_subgroup[error]['median'][3])\n",
        "        model_results['fap_subgroup']['LPA']['var'].append(tmp_subgroup[error]['var'][3])\n",
        "\n",
        "    return model_store, model_results, saved_predictions\n"
      ],
      "execution_count": 7,
      "outputs": []
    },
    {
      "cell_type": "code",
      "metadata": {
        "id": "H_H38nS6LUKr"
      },
      "source": [
        "def regression_outer_loop(outcome_list, \n",
        "                     X_data,\n",
        "                     target_df, \n",
        "                     sub_folder,\n",
        "                     param_grid,\n",
        "                     seeds,\n",
        "                     knn_neighbors = 0):\n",
        "\n",
        "    for target in outcome_list:\n",
        "        now = datetime.now()\n",
        "        current_time = now.strftime(\"%H:%M:%S\")\n",
        "        print(f'starting on: {target} --- {current_time}')\n",
        "\n",
        "        # Get subset of target data!\n",
        "        target_data = df_targets[[target, 'study_group', 'cluster2019_base']].copy()\n",
        "\n",
        "        # Folder to save results\n",
        "        save_folder = f'{sub_folder}/' + target\n",
        "\n",
        "        if target == 'cprinterf8_delta':\n",
        "            error = 'mse'\n",
        "        else:\n",
        "            error = 'mae'\n",
        "        \n",
        "        # Dont include knn in pipeline if we don't want it\n",
        "        if knn_neighbors == 0:\n",
        "            knn_neighbors = False\n",
        "            pipe = Pipeline([\n",
        "                (\"clf\", RandomForestRegressor(criterion=error)),\n",
        "            ])\n",
        "        else:\n",
        "            pipe = Pipeline([\n",
        "                ('knn_impute', KNNImputer(n_neighbors=knn_neighbors)),\n",
        "                (\"clf\", RandomForestRegressor(criterion=error)),\n",
        "            ])\n",
        "\n",
        "        # run modeling\n",
        "        model_store, model_results, preds = \\\n",
        "            rf_bootstrap(\n",
        "                n = n, \n",
        "                k = k, \n",
        "                param_grid = param_grid, \n",
        "                seeds = seeds, \n",
        "                target_field = target, \n",
        "                target_data = target_data, \n",
        "                X_data = X_data,\n",
        "                error = error,\n",
        "                pipe = pipe,\n",
        "                impute_knn = knn_neighbors)\n",
        "\n",
        "        # SAVE DATA\n",
        "        # ---------------------------\n",
        "\n",
        "        # create folder if not exist\n",
        "        Path(f'data/{save_folder}').mkdir(parents=True, exist_ok=True)\n",
        "\n",
        "        # model store\n",
        "        with open(f\"../data/{save_folder}/model_store.pickle\", \"wb\") as ms:\n",
        "            pickle.dump(model_store, ms)\n",
        "\n",
        "        # model results\n",
        "        with open(f\"../data/{save_folder}/model_results.txt\", \"wb\") as mr:\n",
        "            pickle.dump(model_results, mr)\n",
        "\n",
        "        # predictions\n",
        "        with open(f\"../data/{save_folder}/predictions.txt\", \"wb\") as pred:\n",
        "            pickle.dump(preds, pred)\n",
        "\n",
        "    return"
      ],
      "execution_count": 8,
      "outputs": []
    },
    {
      "cell_type": "markdown",
      "metadata": {
        "id": "slYTk_WIN1Hq"
      },
      "source": [
        "# Iterative Random Forest\n",
        "---\n",
        "\n",
        "Loop through the following scenarios using our Random Forest code to iteratively whittle down the feature space. The results will be stored up one directory in a `data` folder (one will be created if it doesn't already exist).\n",
        "\n",
        "The same code can be executed for any of the four (4) CSVs we created in `10-process-data.ipynb`. The cells below are only executed for non-scaled, no missing data as it performed the best. To use one of the other CSVs just change the CSV name in the improt data section below.\n",
        "\n",
        "If you want to impute values using KNN - set the knn_neighbors parameter to anything != 0.\n",
        "\n",
        "**Resources**\n",
        "\n",
        "https://forums.fast.ai/t/oob-score-vs-validation-score/7859/6\n",
        "<br>\n",
        "https://stats.stackexchange.com/questions/300776/oob-score-vs-test-set-accuray-random-forest\n",
        "\n"
      ]
    },
    {
      "cell_type": "markdown",
      "metadata": {
        "id": "nB7GZQ_EQBvk"
      },
      "source": [
        "## Import + Prep Data\n",
        "---"
      ]
    },
    {
      "cell_type": "code",
      "metadata": {
        "id": "I-9mQiLOOHCh"
      },
      "source": [
        "# Import Data\n",
        "# ---------------------\n",
        "df = pd.read_csv(\"../data/cleaned/not_scaled_no_missing.csv\")\n",
        "\n",
        "# Example - Importing non-scaled with missing data\n",
        "# df = pd.read_csv(\"data/cleaned/not_scaled_with_missing.csv\")"
      ],
      "execution_count": 9,
      "outputs": []
    },
    {
      "cell_type": "code",
      "metadata": {
        "id": "ljU_IM2QOrqI"
      },
      "source": [
        "# Setup our Target DataFrame. Drop Base/Post data from our prediction DF\n",
        "# ---------------------\n",
        "# Make adjustments to our DataFrames + Targets\n",
        "df_targets = df[[\n",
        "    'cluster2019_base', 'study_group',\n",
        "    'api_tot_recode0_4_base', 'csigimn2019_base', 'cprinterf8_base', 'cprint8_tscore_base',\n",
        "    'api_tot_recode0_4_post', 'csigimn2019_post', 'cprinterf8_post', 'cprint8_tscore_post',\n",
        "    ]]\n",
        "\n",
        "df = df.drop(\n",
        "    ['api_tot_recode0_4_base', 'csigimn2019_base', 'cprinterf8_base', 'cprint8_tscore_base',\n",
        "     'api_tot_recode0_4_post', 'csigimn2019_post', 'cprinterf8_post', 'cprint8_tscore_post'], \n",
        "    axis = 1\n",
        ")\n",
        "\n",
        "# Keep study group (treatment). Remove FAP Subgroup\n",
        "df = df.drop('cluster2019_base', axis=1)\n",
        "\n",
        "# Calculate our delta\n",
        "df_targets['api_delta'] = df_targets['api_tot_recode0_4_post'] - df_targets['api_tot_recode0_4_base']\n",
        "df_targets['csigi_delta'] = df_targets['csigimn2019_post'] - df_targets['csigimn2019_base']\n",
        "df_targets['cprinterf8_delta'] = df_targets['cprinterf8_post'] - df_targets['cprinterf8_base']\n",
        "\n",
        "# Split out target + dataframe\n",
        "X_data = df.copy()"
      ],
      "execution_count": 10,
      "outputs": [
        {
          "output_type": "stream",
          "name": "stderr",
          "text": [
            "ipykernel_launcher:20: SettingWithCopyWarning: \nA value is trying to be set on a copy of a slice from a DataFrame.\nTry using .loc[row_indexer,col_indexer] = value instead\n\nSee the caveats in the documentation: https://pandas.pydata.org/pandas-docs/stable/user_guide/indexing.html#returning-a-view-versus-a-copy\nipykernel_launcher:21: SettingWithCopyWarning: \nA value is trying to be set on a copy of a slice from a DataFrame.\nTry using .loc[row_indexer,col_indexer] = value instead\n\nSee the caveats in the documentation: https://pandas.pydata.org/pandas-docs/stable/user_guide/indexing.html#returning-a-view-versus-a-copy\nipykernel_launcher:22: SettingWithCopyWarning: \nA value is trying to be set on a copy of a slice from a DataFrame.\nTry using .loc[row_indexer,col_indexer] = value instead\n\nSee the caveats in the documentation: https://pandas.pydata.org/pandas-docs/stable/user_guide/indexing.html#returning-a-view-versus-a-copy\n"
          ]
        }
      ]
    },
    {
      "cell_type": "markdown",
      "metadata": {
        "id": "pILMEP72tm1A"
      },
      "source": [
        "### Round Age of Conscent\n",
        "---\n",
        "\n",
        "In the source data, age of conscent is really specific (many decimal places). This gives that feature in particular a HUGE feature space in comparison to our questionairre responses and the difference between 10.12341 and 10.451231 years is probably not that significant.\n",
        "\n",
        "Below we round the age to the nearest 0.5 years -- Rounding to the nearest year might make a significant difference due to how quickly kids grow\n"
      ]
    },
    {
      "cell_type": "code",
      "metadata": {
        "id": "XhOw7MoOtkVz"
      },
      "source": [
        "def round_to(n, precision):\n",
        "    correction = 0.5 if n >= 0 else -0.5\n",
        "    return int( n/precision+correction ) * precision\n",
        "\n",
        "def round_to_05(n):\n",
        "    return round_to(n, 0.5)"
      ],
      "execution_count": 11,
      "outputs": []
    },
    {
      "cell_type": "code",
      "metadata": {
        "id": "3FpuyThEtl1H"
      },
      "source": [
        "X_data['age_consent'] = df['age_consent'].apply(lambda x: round_to_05(x))"
      ],
      "execution_count": 12,
      "outputs": []
    },
    {
      "cell_type": "markdown",
      "metadata": {
        "id": "4jaCcqDUqd_z"
      },
      "source": [
        "## Part 1 - All Features\n",
        "---\n",
        "\n",
        "Out of Bootstrap RAndom Forest Regression using all the features in our data. This will be our random forest performance baseline."
      ]
    },
    {
      "cell_type": "markdown",
      "metadata": {
        "id": "kK1O8QFpQEYi"
      },
      "source": [
        "### Model Parameters\n"
      ]
    },
    {
      "cell_type": "code",
      "metadata": {
        "id": "qts1x_VNOzp_"
      },
      "source": [
        "# MODEL SETUP\n",
        "n = 50              # OUTER LOOP ITERATIONS (down from 100)\n",
        "k = 3               # cross-folds\n",
        "knn_neighbors = 0   # change here if you want to KNN impute missing values\n",
        "\n",
        "seeds = np.random.randint(10000, size = n)\n",
        "\n",
        "# Looping through targets\n",
        "outcomes = ['api_delta', 'csigi_delta', 'cprinterf8_delta']\n",
        "\n",
        "# SAVING FOLDER\n",
        "sub_folder = 'outcome_delta/all_features'\n",
        "\n",
        "# Parameter grid\n",
        "param_grid = {\n",
        "    \"clf__n_estimators\": [50, 80, 100, 120, 150],\n",
        "    \"clf__max_depth\": [3, 4, 5, 6, 10],\n",
        "    \"clf__max_features\": [*np.arange(0.10, 0.80, 0.05)],\n",
        "    \"clf__min_samples_split\": [3, 5, 10, 15, 20, 40, 50],\n",
        "    \"clf__min_samples_leaf\": [2, 3, 4, 5] # guarantees a min number of samples in every leaf\n",
        "}\n"
      ],
      "execution_count": null,
      "outputs": []
    },
    {
      "cell_type": "markdown",
      "metadata": {
        "id": "s9wJaATZvH0U"
      },
      "source": [
        "### Model Loop\n"
      ]
    },
    {
      "cell_type": "code",
      "metadata": {
        "colab": {
          "base_uri": "https://localhost:8080/"
        },
        "id": "v0xYfJTRvHN6",
        "outputId": "755e405c-a70d-40d3-bff9-88924f7547d5"
      },
      "source": [
        "# ALL FEATURES\n",
        "model_outer_loop(\n",
        "    X_data = X_data,\n",
        "    target_df = df_targets,\n",
        "    outcome_list = outcomes,\n",
        "    sub_folder = sub_folder,\n",
        "    param_grid = param_grid,\n",
        "    seeds = seeds,\n",
        "    knn_neighbors = knn_neighbors)"
      ],
      "execution_count": null,
      "outputs": [
        {
          "output_type": "stream",
          "text": [
            "starting on: api_delta --- 23:17:27\n",
            "starting on: csigi_delta --- 23:29:22\n",
            "starting on: cprinterf8_delta --- 23:41:33\n"
          ],
          "name": "stdout"
        }
      ]
    },
    {
      "cell_type": "markdown",
      "metadata": {
        "id": "tOZxN9Cgc94h"
      },
      "source": [
        "## Part 2 -- Top X Features (10, 15, 20)\n",
        "----\n",
        "\n",
        "Instead of using all ~122 we are using the top 20 from each of our 3 outcome variables. Just based on average importance (and not best model), this gives us only 36 variables!!\n",
        "\n",
        "To this we will add study_group (just to see).\n",
        "\n",
        "The code from the previous loop will be copied but this time with only 3 loops - only MSE for PROMIS"
      ]
    },
    {
      "cell_type": "code",
      "metadata": {
        "id": "8Uncz9QJdx6m"
      },
      "source": [
        "# Columns (Top 20 -- 46 total + study_group)!\n",
        "# ---------------------\n",
        "col_subset_20 = [\n",
        "    'age_consent','api1_txfap','api2_txfap','api3_txfap','api4_txfap','cdi18_txfap',\n",
        "    'csi10_txfap','csi11_txfap','csi12_txfap','csi13_txfap','csi14_txfap','csi15_txfap',\n",
        "    'csi17_txfap','csi19_txfap','csi20_txfap','csi21_txfap','csi22_txfap','csi23_txfap',\n",
        "    'csi3_txfap','csi4_txfap','csi6_txfap','csi8_txfap','fdi12_txfap','fdi13_txfap','fdi5_txfap',\n",
        "    'fdi8_txfap','fdi9_txfap','pbq10_txfap','pbq12_txfap','pbq14_txfap','pbq15_txfap','pbq16_txfap',\n",
        "    'pbq6_txfap','pbq8_txfap','pcsc11_txfap','pcsc12_txfap','pcsc7_txfap','pri11_txfap','pri15_txfap',\n",
        "    'promis_anx4_txfap','promis_anx5_txfap','promis_anx7_txfap','prsleep3_txfap','prsleep4_txfap',\n",
        "    'prsleep6_txfap','prsleep7_txfap'\n",
        "]\n",
        "\n",
        "col_subset_20.append('study_group')\n",
        "\n",
        "# Get Data Subset\n",
        "# ---------------------\n",
        "X_data_subset_20 = X_data[col_subset_20]"
      ],
      "execution_count": null,
      "outputs": []
    },
    {
      "cell_type": "code",
      "metadata": {
        "colab": {
          "base_uri": "https://localhost:8080/"
        },
        "id": "rORHwgH7dqCV",
        "outputId": "235a176d-2c1f-4ca7-aff5-5ee21710940f"
      },
      "source": [
        "# Columns (Top 15 -- 38 total + study_group)!\n",
        "# ---------------------\n",
        "col_subset_15 = list({\n",
        " 'api1_txfap', 'api2_txfap', 'api3_txfap', 'age_consent', 'fdi8_txfap', \n",
        " 'csi15_txfap', 'pbq16_txfap', 'api4_txfap', 'cdi18_txfap', 'csi8_txfap', \n",
        " 'pbq8_txfap', 'csi4_txfap', 'csi13_txfap', 'csi19_txfap', 'pbq6_txfap', 'csi13_txfap', \n",
        " 'csi21_txfap', 'csi12_txfap', 'csi15_txfap', 'api4_txfap', 'csi14_txfap', 'csi20_txfap', \n",
        " 'csi23_txfap', 'csi17_txfap', 'promis_anx5_txfap', 'csi3_txfap', 'pcsc7_txfap', 'age_consent', \n",
        " 'pbq14_txfap', 'csi22_txfap', 'fdi9_txfap', 'fdi12_txfap', 'fdi13_txfap', 'csi10_txfap', \n",
        " 'prsleep4_txfap', 'fdi5_txfap', 'pbq10_txfap', 'prsleep7_txfap', 'csi21_txfap', 'pbq12_txfap', \n",
        " 'csi13_txfap', 'csi23_txfap', 'promis_anx7_txfap', 'pcsc12_txfap', 'csi6_txfap'})\n",
        "\n",
        "print(len(col_subset_15))\n",
        "\n",
        "col_subset_15.append('study_group')\n",
        "\n",
        "# Get Data Subset\n",
        "# ---------------------\n",
        "X_data_subset_15 = X_data[col_subset_15]"
      ],
      "execution_count": null,
      "outputs": [
        {
          "output_type": "stream",
          "text": [
            "38\n"
          ],
          "name": "stdout"
        }
      ]
    },
    {
      "cell_type": "code",
      "metadata": {
        "colab": {
          "base_uri": "https://localhost:8080/"
        },
        "id": "tcRJ86jCMSnN",
        "outputId": "40d811a6-c28b-4e30-94db-1e2cb5ac42c7"
      },
      "source": [
        "# Columns (Top 10 -- 27 total + study_group)!\n",
        "# ---------------------\n",
        "col_subset_10 = list({\n",
        "    'fdi9_txfap', 'fdi12_txfap', 'fdi13_txfap', 'csi10_txfap', 'prsleep4_txfap', \n",
        "    'fdi5_txfap', 'pbq10_txfap', 'prsleep7_txfap', 'csi21_txfap', 'pbq12_txfap', \n",
        "    'csi13_txfap', 'csi21_txfap', 'csi12_txfap', 'csi15_txfap', 'api4_txfap', 'csi14_txfap', \n",
        "    'csi20_txfap', 'csi23_txfap', 'csi17_txfap', 'promis_anx5_txfap', 'api1_txfap', 'api2_txfap', \n",
        "    'api3_txfap', 'age_consent', 'fdi8_txfap', 'csi15_txfap', 'pbq16_txfap', 'api4_txfap', \n",
        "    'cdi18_txfap', 'csi8_txfap'})\n",
        "\n",
        "print(len(col_subset_10))\n",
        "\n",
        "col_subset_10.append('study_group')\n",
        "\n",
        "# Get Data Subset\n",
        "# ---------------------\n",
        "X_data_subset_10 = X_data[col_subset_10]"
      ],
      "execution_count": null,
      "outputs": [
        {
          "output_type": "stream",
          "text": [
            "27\n"
          ],
          "name": "stdout"
        }
      ]
    },
    {
      "cell_type": "code",
      "metadata": {
        "colab": {
          "base_uri": "https://localhost:8080/"
        },
        "id": "7eTSZsSEcUXO",
        "outputId": "c3d1e9c2-9e59-43b5-e103-d7f6798b7a98"
      },
      "source": [
        "for i in col_subset_10:\n",
        "  print(i)"
      ],
      "execution_count": null,
      "outputs": [
        {
          "output_type": "stream",
          "text": [
            "csi10_txfap\n",
            "api2_txfap\n",
            "api4_txfap\n",
            "csi12_txfap\n",
            "fdi9_txfap\n",
            "prsleep4_txfap\n",
            "csi14_txfap\n",
            "csi13_txfap\n",
            "csi17_txfap\n",
            "pbq10_txfap\n",
            "csi21_txfap\n",
            "csi20_txfap\n",
            "csi23_txfap\n",
            "promis_anx5_txfap\n",
            "api1_txfap\n",
            "fdi5_txfap\n",
            "cdi18_txfap\n",
            "csi15_txfap\n",
            "fdi8_txfap\n",
            "prsleep7_txfap\n",
            "csi8_txfap\n",
            "fdi13_txfap\n",
            "pbq12_txfap\n",
            "age_consent\n",
            "pbq16_txfap\n",
            "fdi12_txfap\n",
            "api3_txfap\n",
            "study_group\n"
          ],
          "name": "stdout"
        }
      ]
    },
    {
      "cell_type": "markdown",
      "metadata": {
        "id": "UKbgkeP5eUtS"
      },
      "source": [
        "### Model Parameters"
      ]
    },
    {
      "cell_type": "code",
      "metadata": {
        "id": "fDLNne-3dtIZ"
      },
      "source": [
        "# MODEL SETUP\n",
        "n = 50              # OUTER LOOP ITERATIONS (down from 100)\n",
        "k = 3               # cross-folds\n",
        "knn_neighbors = 0\n",
        "\n",
        "seeds = np.random.randint(10000, size = n)\n",
        "\n",
        "# Looping through targets\n",
        "outcomes = ['api_delta', 'csigi_delta', 'cprinterf8_delta']\n",
        "\n",
        "# SAVING FOLDER\n",
        "# sub_folder = 'outcome_delta/top_20_features'\n",
        "\n",
        "# Parameter grid\n",
        "param_grid = {\n",
        "    \"clf__n_estimators\": [50, 80, 100, 120, 150],\n",
        "    \"clf__max_depth\": [3, 4, 5, 6, 10],\n",
        "    \"clf__max_features\": [*np.arange(0.10, 0.80, 0.05)],\n",
        "    \"clf__min_samples_split\": [3, 5, 10, 15, 20, 40, 50],\n",
        "    \"clf__min_samples_leaf\": [2, 3, 4, 5] # guarantees a min number of samples in every leaf\n",
        "}\n"
      ],
      "execution_count": null,
      "outputs": []
    },
    {
      "cell_type": "markdown",
      "metadata": {
        "id": "wo957aIkUttS"
      },
      "source": [
        "### Model Loops"
      ]
    },
    {
      "cell_type": "code",
      "metadata": {
        "colab": {
          "base_uri": "https://localhost:8080/"
        },
        "id": "N5kRr0HNJG_C",
        "outputId": "055d8fad-0561-4aef-89f6-8f3fc07ec6a5"
      },
      "source": [
        "# TOP 20 FEATURES\n",
        "sub_folder = 'outcome_delta/top_20_features'\n",
        "\n",
        "model_outer_loop(\n",
        "    X_data = X_data_subset_20,\n",
        "    target_df = df_targets,\n",
        "    outcome_list = outcomes,\n",
        "    sub_folder = sub_folder,\n",
        "    param_grid = param_grid,\n",
        "    seeds = seeds,\n",
        "    knn_neighbors = knn_neighbors)"
      ],
      "execution_count": null,
      "outputs": [
        {
          "output_type": "stream",
          "text": [
            "starting on: api_delta --- 00:20:18\n",
            "starting on: csigi_delta --- 00:26:55\n",
            "starting on: cprinterf8_delta --- 00:33:40\n"
          ],
          "name": "stdout"
        }
      ]
    },
    {
      "cell_type": "code",
      "metadata": {
        "colab": {
          "background_save": true,
          "base_uri": "https://localhost:8080/"
        },
        "id": "74GtRomONchf",
        "outputId": "5c0d66c7-b0b5-4de6-ee0b-cf80b10b97a2"
      },
      "source": [
        "# TOP 15 FEATURES\n",
        "sub_folder = 'outcome_delta/top_15_features'\n",
        "\n",
        "model_outer_loop(\n",
        "    X_data = X_data_subset_15,\n",
        "    target_df = df_targets,\n",
        "    outcome_list = outcomes,\n",
        "    sub_folder = sub_folder,\n",
        "    param_grid = param_grid,\n",
        "    seeds = seeds,\n",
        "    knn_neighbors = knn_neighbors)"
      ],
      "execution_count": null,
      "outputs": [
        {
          "output_type": "stream",
          "text": [
            "starting on: api_delta --- 00:39:56\n",
            "starting on: csigi_delta --- 00:46:14\n",
            "starting on: cprinterf8_delta --- 00:52:24\n"
          ],
          "name": "stdout"
        }
      ]
    },
    {
      "cell_type": "code",
      "metadata": {
        "colab": {
          "base_uri": "https://localhost:8080/"
        },
        "id": "dvEzNp8wNgPu",
        "outputId": "5642d8d2-62c9-445f-a82c-277e0106d914"
      },
      "source": [
        "# TOP 10 FEATURES\n",
        "sub_folder = 'outcome_delta/top_10_features'\n",
        "\n",
        "model_outer_loop(\n",
        "    X_data = X_data_subset_10,\n",
        "    target_df = df_targets,\n",
        "    outcome_list = outcomes,\n",
        "    sub_folder = sub_folder,\n",
        "    param_grid = param_grid,\n",
        "    seeds = seeds,\n",
        "    knn_neighbors = knn_neighbors)"
      ],
      "execution_count": null,
      "outputs": [
        {
          "output_type": "stream",
          "text": [
            "starting on: api_delta --- 00:55:45\n",
            "starting on: csigi_delta --- 01:00:49\n",
            "starting on: cprinterf8_delta --- 01:06:14\n"
          ],
          "name": "stdout"
        }
      ]
    },
    {
      "cell_type": "markdown",
      "metadata": {
        "id": "ib5Sc0IdraDA"
      },
      "source": [
        "## Part 3 - Top Model Features Only\n",
        "---\n",
        "\n",
        "In only picking the top columns across all our outcome variables, we have 49 features, with 50 total (+1 for study_group)."
      ]
    },
    {
      "cell_type": "code",
      "metadata": {
        "id": "PIJjGIfsrdxs"
      },
      "source": [
        "# Columns!\n",
        "# ---------------------\n",
        "col_subset_top = [\n",
        "  'pbq1_txfap', 'promis_anx4_txfap', 'csi21_txfap', 'csi1_txfap', 'csi10_txfap', \n",
        "  'promis_anx7_txfap', 'promis_anx6_txfap', 'pcsc10_txfap', 'csi3_txfap', 'csi5_txfap', \n",
        "  'api1_txfap', 'pcsc12_txfap', 'csi13_txfap', 'pbq8_txfap', 'pbq3_txfap', 'fdi3_txfap', \n",
        "  'cdi22_txfap', 'study_group', 'fdi8_txfap', 'csi12_txfap', 'prsleep4_txfap', 'pbq9_txfap', \n",
        "  'pbq10_txfap', 'prsleep3_txfap', 'api3_txfap', 'age_consent', 'pcsc5_txfap', 'cdi8_txfap', \n",
        "  'cdi16_txfap', 'cdi25_txfap', 'prsleep5_txfap', 'sex', 'pbq15_txfap', 'cdi10_txfap', 'promis_anx8_txfap', \n",
        "  'csi8_txfap', 'prsleep6_txfap', 'pcsc9_txfap', 'promis_anx5_txfap', 'cdi9_txfap', 'pcsc3_txfap', 'csi9_txfap', \n",
        "  'pbq17_txfap', 'fdi12_txfap', 'cdi23_txfap', 'pbq4_txfap', 'prsleep7_txfap', 'pbq7_txfap'\n",
        "]\n",
        "\n",
        "col_subset_top.append('study_group')\n",
        "\n",
        "# Get Data Subset\n",
        "# ---------------------\n",
        "X_data_subset_top = X_data[col_subset_top]"
      ],
      "execution_count": null,
      "outputs": []
    },
    {
      "cell_type": "markdown",
      "metadata": {
        "id": "SdvRlGL_ssT6"
      },
      "source": [
        "### Model Parameters\n",
        "---"
      ]
    },
    {
      "cell_type": "code",
      "metadata": {
        "id": "WYnwv_5asunI"
      },
      "source": [
        "# MODEL SETUP\n",
        "n = 50              # OUTER LOOP ITERATIONS (down from 100)\n",
        "k = 3               # cross-folds\n",
        "knn_neighbors = 0\n",
        "\n",
        "seeds = np.random.randint(10000, size = n)\n",
        "\n",
        "# Looping through targets\n",
        "outcomes = ['api_delta', 'csigi_delta', 'cprinterf8_delta']\n",
        "\n",
        "# Parameter grid\n",
        "param_grid = {\n",
        "    \"clf__n_estimators\": [50, 80, 100, 120, 150],\n",
        "    \"clf__max_depth\": [3, 4, 5, 6, 10],\n",
        "    \"clf__max_features\": [*np.arange(0.10, 0.80, 0.05)],\n",
        "    \"clf__min_samples_split\": [3, 5, 10, 15, 20, 40, 50],\n",
        "    \"clf__min_samples_leaf\": [2, 3, 4, 5] # guarantees a min number of samples in every leaf\n",
        "}"
      ],
      "execution_count": null,
      "outputs": []
    },
    {
      "cell_type": "markdown",
      "metadata": {
        "id": "c27Oi-YohYVo"
      },
      "source": [
        "### Model Loop"
      ]
    },
    {
      "cell_type": "code",
      "metadata": {
        "colab": {
          "base_uri": "https://localhost:8080/"
        },
        "id": "hhSx33qmhONW",
        "outputId": "342c1b08-62b9-4d3d-f37c-6b273b3bc8fc"
      },
      "source": [
        "# TOP 20 FEATURES\n",
        "sub_folder = 'outcome_delta/top_model_features_only'\n",
        "\n",
        "model_outer_loop(\n",
        "    X_data = X_data_subset_top,\n",
        "    target_df = df_targets,\n",
        "    outcome_list = outcomes,\n",
        "    sub_folder = sub_folder,\n",
        "    param_grid = param_grid,\n",
        "    seeds = seeds,\n",
        "    knn_neighbors = knn_neighbors)"
      ],
      "execution_count": null,
      "outputs": [
        {
          "output_type": "stream",
          "text": [
            "starting on: api_delta --- 11:24:00\n",
            "starting on: csigi_delta --- 11:30:50\n",
            "starting on: cprinterf8_delta --- 11:37:33\n"
          ],
          "name": "stdout"
        }
      ]
    },
    {
      "cell_type": "markdown",
      "metadata": {
        "id": "C0UyERyFbzm8"
      },
      "source": [
        "## Part 4 - Random Features\n",
        "---\n",
        "\n",
        "Becaues we're seeing a stabilization of MSE/MAE for each out of outcome variables, wanting to do a quick sanity on if selecting features at random makes a significant impact"
      ]
    },
    {
      "cell_type": "code",
      "metadata": {
        "id": "0g4vtZLmb-95"
      },
      "source": [
        "# Columns!\n",
        "# ---------------------\n",
        "np.random.seed(2021)\n",
        "rand_col_index = np.random.randint(\n",
        "    low = 0,\n",
        "    high = 120, \n",
        "    size = 40)\n",
        "\n",
        "X_data_subset_random = X_data.iloc[:, rand_col_index] "
      ],
      "execution_count": null,
      "outputs": []
    },
    {
      "cell_type": "markdown",
      "metadata": {
        "id": "xWNdlQO1cEv9"
      },
      "source": [
        "### Model Parameters"
      ]
    },
    {
      "cell_type": "code",
      "metadata": {
        "id": "QeAmTbH1cAgB"
      },
      "source": [
        "# MODEL SETUP\n",
        "n = 50              # OUTER LOOP ITERATIONS (down from 100)\n",
        "k = 3               # cross-folds\n",
        "knn_neighbors = 0\n",
        "\n",
        "seeds = np.random.randint(10000, size = n)\n",
        "\n",
        "# Looping through targets\n",
        "outcomes = ['api_delta', 'csigi_delta', 'cprinterf8_delta']\n",
        "\n",
        "# Parameter grid\n",
        "param_grid = {\n",
        "    \"clf__n_estimators\": [50, 80, 100, 120, 150],\n",
        "    \"clf__max_depth\": [3, 4, 5, 6, 10],\n",
        "    \"clf__max_features\": [*np.arange(0.10, 0.80, 0.05)],\n",
        "    \"clf__min_samples_split\": [3, 5, 10, 15, 20, 40, 50],\n",
        "    \"clf__min_samples_leaf\": [2, 3, 4, 5] # guarantees a min number of samples in every leaf\n",
        "}"
      ],
      "execution_count": null,
      "outputs": []
    },
    {
      "cell_type": "markdown",
      "metadata": {
        "id": "tszEs_-jlRzt"
      },
      "source": [
        "### Model Loop"
      ]
    },
    {
      "cell_type": "code",
      "metadata": {
        "colab": {
          "base_uri": "https://localhost:8080/"
        },
        "id": "bGwFXHU0lRYP",
        "outputId": "4da23f0e-b2c8-44ff-b103-63dcfb5572a7"
      },
      "source": [
        "# RANDOM FEATURES\n",
        "sub_folder = 'outcome_delta/random_features'\n",
        "\n",
        "model_outer_loop(\n",
        "    \n",
        "    # - EDIT DATA HERE ----------\n",
        "    X_data = X_data_subset_random,\n",
        "    # ---------------------------\n",
        "\n",
        "    target_df = df_targets,\n",
        "    outcome_list = outcomes,\n",
        "    sub_folder = sub_folder,\n",
        "    param_grid = param_grid,\n",
        "    seeds = seeds,\n",
        "    knn_neighbors = knn_neighbors)"
      ],
      "execution_count": null,
      "outputs": [
        {
          "output_type": "stream",
          "text": [
            "starting on: api_delta --- 11:46:38\n",
            "starting on: csigi_delta --- 11:52:51\n",
            "starting on: cprinterf8_delta --- 11:59:03\n"
          ],
          "name": "stdout"
        }
      ]
    },
    {
      "cell_type": "markdown",
      "metadata": {
        "id": "jw_oT7hQrDG2"
      },
      "source": [
        "## Part 5 - Mutual Information Regression\n",
        "---\n",
        "\n",
        "Top 15 from each outcome variable from mutual information regression (38 total)"
      ]
    },
    {
      "cell_type": "code",
      "metadata": {
        "id": "_YEqB8zRrCU0"
      },
      "source": [
        "col_subset_mir = [\n",
        " 'csi15_txfap', 'csi16_txfap', 'api3_txfap', 'api1_txfap', \n",
        " 'api2_txfap', 'pbq2_txfap', 'cdi22_txfap', 'pcsc12_txfap', 'promis_anx1_txfap', \n",
        " 'pcsc5_txfap', 'cdi12_txfap', 'promis_anx3_txfap', 'pcsc9_txfap', 'pcsc10_txfap', \n",
        " 'csi7_txfap', 'pbq5_txfap', 'csi21_txfap', 'pcsc11_txfap', 'promis_anx7_txfap', 'fdi8_txfap', \n",
        " 'prsleep4_txfap', 'csi14_txfap', 'promis_anx2_txfap', 'prsleep1_txfap', 'cdi8_txfap', \n",
        " 'csi17_txfap', 'csi9_txfap', 'cdi7_txfap', 'promis_anx8_txfap', 'pcsc8_txfap', 'pbq3_txfap', \n",
        " 'pbq4_txfap', 'csi2_txfap', 'fdi12_txfap', 'pbq8_txfap', 'fdi9_txfap', 'pcsc3_txfap', 'pbq12_txfap'\n",
        "]\n",
        "\n",
        "# Get Data Subset\n",
        "# ---------------------\n",
        "X_data_subset_mir = X_data[col_subset_mir]"
      ],
      "execution_count": null,
      "outputs": []
    },
    {
      "cell_type": "markdown",
      "metadata": {
        "id": "sROF5vCYrSIJ"
      },
      "source": [
        "### Model Parameters"
      ]
    },
    {
      "cell_type": "code",
      "metadata": {
        "id": "LldHfGHqrTJf"
      },
      "source": [
        "# MODEL SETUP\n",
        "n = 50              # OUTER LOOP ITERATIONS (down from 100)\n",
        "k = 3               # cross-folds\n",
        "knn_neighbors = 0\n",
        "\n",
        "seeds = np.random.randint(10000, size = n)\n",
        "\n",
        "# Looping through targets\n",
        "outcomes = ['api_delta', 'csigi_delta', 'cprinterf8_delta']\n",
        "\n",
        "# Parameter grid\n",
        "param_grid = {\n",
        "    \"clf__n_estimators\": [50, 80, 100, 120, 150],\n",
        "    \"clf__max_depth\": [3, 4, 5, 6, 10],\n",
        "    \"clf__max_features\": [*np.arange(0.10, 0.80, 0.05)],\n",
        "    \"clf__min_samples_split\": [3, 5, 10, 15, 20, 40, 50],\n",
        "    \"clf__min_samples_leaf\": [2, 3, 4, 5] # guarantees a min number of samples in every leaf\n",
        "}"
      ],
      "execution_count": null,
      "outputs": []
    },
    {
      "cell_type": "markdown",
      "metadata": {
        "id": "aQBNUm67sLf_"
      },
      "source": [
        "### Model Loop"
      ]
    },
    {
      "cell_type": "code",
      "metadata": {
        "colab": {
          "base_uri": "https://localhost:8080/"
        },
        "id": "bmtyVZHOsKyr",
        "outputId": "f7c23c46-c9dd-46f6-9838-22073a7da3d4"
      },
      "source": [
        "# RANDOM FEATURES\n",
        "sub_folder = 'outcome_delta/mir_15'\n",
        "\n",
        "model_outer_loop(\n",
        "    \n",
        "    # - EDIT DATA HERE ----------\n",
        "    X_data = X_data_subset_mir,\n",
        "    # ---------------------------\n",
        "\n",
        "    target_df = df_targets,\n",
        "    outcome_list = outcomes,\n",
        "    sub_folder = sub_folder,\n",
        "    param_grid = param_grid,\n",
        "    seeds = seeds,\n",
        "    knn_neighbors = knn_neighbors)"
      ],
      "execution_count": null,
      "outputs": [
        {
          "output_type": "stream",
          "text": [
            "starting on: api_delta --- 12:11:43\n",
            "starting on: csigi_delta --- 12:17:50\n",
            "starting on: cprinterf8_delta --- 12:23:42\n"
          ],
          "name": "stdout"
        }
      ]
    },
    {
      "cell_type": "markdown",
      "metadata": {
        "id": "zIwvnZdxuoNo"
      },
      "source": [
        "## Part 6 - Classification!\n",
        "---\n",
        "\n",
        "Jacobson Clinical Signifiance / Reliable Change Index [link]()\n",
        "\n",
        "Calcuate it two ways. Varying definintions on how to calculate. Chronbach Alpha scores were provided\n",
        "* RCI 1 -- https://lbecker.uccs.edu/clinsig\n",
        "* RCI 2 -- https://www.psyctc.org/stats/rcsc1.htm"
      ]
    },
    {
      "cell_type": "code",
      "metadata": {
        "id": "Z7Keyez4kbJs"
      },
      "source": [
        "with open(f'data/{sub_folder}/api_rci_1/predictions.txt', 'rb') as tmp:\n",
        "    df_predictions = pickle.load(tmp)"
      ],
      "execution_count": 202,
      "outputs": []
    },
    {
      "cell_type": "code",
      "metadata": {
        "id": "pLtgg2Y0kogK"
      },
      "source": [
        "threshold = 0.5\n",
        "\n",
        "# Prediction stored is if = 0 (not changed). So we need to take the reverse of our evaluation\n",
        "df_predictions['prediction'] = ~(df_predictions['predict_not_changed'] >= threshold)\n",
        "df_predictions['is_predict_correct'] = df_predictions['api_rci_1'] == df_predictions['prediction']\n"
      ],
      "execution_count": 203,
      "outputs": []
    },
    {
      "cell_type": "code",
      "metadata": {
        "colab": {
          "base_uri": "https://localhost:8080/"
        },
        "id": "JxVdw89Sl53n",
        "outputId": "7eee0868-be30-4fcc-88cc-eef1f8c910a7"
      },
      "source": [
        "# AVERAGE ACCURACY\n",
        "df_predictions['is_predict_correct'].sum() / df_predictions.shape[0]"
      ],
      "execution_count": 204,
      "outputs": [
        {
          "output_type": "execute_result",
          "data": {
            "text/plain": [
              "0.8440217391304348"
            ]
          },
          "metadata": {
            "tags": []
          },
          "execution_count": 204
        }
      ]
    },
    {
      "cell_type": "code",
      "metadata": {
        "colab": {
          "base_uri": "https://localhost:8080/"
        },
        "id": "76FV3ucLlNdi",
        "outputId": "7235922b-946e-48aa-9b52-2fa905c374a0"
      },
      "source": [
        "# Accuracy by Cluster\n",
        "\n",
        "print('Cluster 1 - High Pain Dysfunctional')\n",
        "df_subgroup = df_predictions.loc[df_predictions['cluster2019_base'] == 1]\n",
        "num_correct = df_subgroup['is_predict_correct'].sum()\n",
        "\n",
        "accuracy = num_correct / df_subgroup.shape[0]\n",
        "precision = precision_score(df_subgroup['api_rci_1'], df_subgroup['prediction'])\n",
        "recall = recall_score(df_subgroup['api_rci_1'], df_subgroup['prediction'])\n",
        "\n",
        "print(f'Accuracy: {round(accuracy,3)}')\n",
        "print(f'Precision: {round(precision,3)}')\n",
        "print(f'Recall: {round(recall,3)}')\n",
        "\n",
        "print()\n",
        "\n",
        "print('Cluster 2 - High Pain Adaptive')\n",
        "df_subgroup = df_predictions.loc[df_predictions['cluster2019_base'] == 2]\n",
        "num_correct = df_subgroup['is_predict_correct'].sum()\n",
        "\n",
        "accuracy = num_correct / df_subgroup.shape[0]\n",
        "precision = precision_score(df_subgroup['api_rci_1'], df_subgroup['prediction'])\n",
        "recall = recall_score(df_subgroup['api_rci_1'], df_subgroup['prediction'])\n",
        "\n",
        "print(f'Accuracy: {round(accuracy,3)}')\n",
        "print(f'Precision: {round(precision,3)}')\n",
        "print(f'Recall: {round(recall,3)}')\n",
        "\n",
        "print()\n",
        "\n",
        "print('Cluster 3 - Low Pain Adaptive')\n",
        "df_subgroup = df_predictions.loc[df_predictions['cluster2019_base'] == 3]\n",
        "num_correct = df_subgroup['is_predict_correct'].sum()\n",
        "\n",
        "accuracy = num_correct / df_subgroup.shape[0]\n",
        "precision = precision_score(df_subgroup['api_rci_1'], df_subgroup['prediction'])\n",
        "recall = recall_score(df_subgroup['api_rci_1'], df_subgroup['prediction'])\n",
        "\n",
        "print(f'Accuracy: {round(accuracy,3)}')\n",
        "print(f'Precision: {round(precision,3)}')\n",
        "print(f'Recall: {round(recall,3)}')"
      ],
      "execution_count": 207,
      "outputs": [
        {
          "output_type": "stream",
          "text": [
            "Cluster 1 - High Pain Dysfunctional\n",
            "Accuracy: 0.818\n",
            "Precision: 0.851\n",
            "Recall: 0.667\n",
            "\n",
            "Cluster 2 - High Pain Adaptive\n",
            "Accuracy: 0.852\n",
            "Precision: 0.917\n",
            "Recall: 0.574\n",
            "\n",
            "Cluster 3 - Low Pain Adaptive\n",
            "Accuracy: 0.875\n",
            "Precision: 0.931\n",
            "Recall: 0.54\n"
          ],
          "name": "stdout"
        }
      ]
    },
    {
      "cell_type": "code",
      "metadata": {
        "id": "y-qBlRTTnBu8"
      },
      "source": [
        "from sklearn.metrics import recall_score, precision_score, plot_roc_curve"
      ],
      "execution_count": 190,
      "outputs": []
    },
    {
      "cell_type": "code",
      "metadata": {
        "colab": {
          "base_uri": "https://localhost:8080/"
        },
        "id": "2kDxoG-0nF4g",
        "outputId": "04c93270-0fe7-4fdb-83c9-fc3ce369f78c"
      },
      "source": [
        "precision_score(hpd_predictions['api_rci_1'], hpd_predictions['prediction'])"
      ],
      "execution_count": 189,
      "outputs": [
        {
          "output_type": "execute_result",
          "data": {
            "text/plain": [
              "0.8506787330316742"
            ]
          },
          "metadata": {
            "tags": []
          },
          "execution_count": 189
        }
      ]
    },
    {
      "cell_type": "markdown",
      "metadata": {
        "id": "yTa1RPmntapG"
      },
      "source": [
        "## Evaluations (Re-used Across Loops)\n",
        "---\n",
        "\n",
        "1. Report MSE/MAE (Overall average, variance, best result). Create a table showing error by FAP Subgroup (row) and Treatment (Column), including totals\n",
        "Goal of this is to show if there's been any bias / poor results for a class\n",
        "2. MAE / MSE distributions (Overall, Study Group, Treatment)\n",
        "3. Top X Features (15?)\n",
        "4. Top 20 models - what were the parameters. How did they compare?"
      ]
    },
    {
      "cell_type": "code",
      "metadata": {
        "id": "giXzChBStbKZ"
      },
      "source": [
        "# LOAD SAVED DATA\n",
        "\n",
        "# include subfolder!\n",
        "# ['api_delta', 'csigi_delta', 'cprinterf8_delta']\n",
        "\n",
        "outcome_var = 'cprinterf8_delta'\n",
        "sub_folder='outcome_delta/mir_15'\n",
        "folder = f'{sub_folder}/{outcome_var}'\n",
        "\n",
        "with open(f'data/{folder}/model_store.pickle', 'rb') as tmp:\n",
        "    model_store = pickle.load(tmp)\n",
        "\n",
        "with open(f'data/{folder}/model_results.txt', 'rb') as tmp:\n",
        "    model_results = pickle.load(tmp)\n",
        "\n",
        "with open(f'data/{folder}/predictions.txt', 'rb') as tmp:\n",
        "    predictions = pickle.load(tmp)"
      ],
      "execution_count": null,
      "outputs": []
    },
    {
      "cell_type": "code",
      "metadata": {
        "colab": {
          "base_uri": "https://localhost:8080/"
        },
        "id": "mBveJhH6CXvr",
        "outputId": "fabcc101-1213-4076-965f-3667ade6fcd8"
      },
      "source": [
        "# General info (min/max/mean error and index)\n",
        "# ---------------------------\n",
        "\n",
        "print('Best Model Error, Index')\n",
        "print(round(min(model_results['overall']['mae']), 4))\n",
        "print(model_results['overall']['mae'].index(min(model_results['overall']['mae'])))\n",
        "\n",
        "print('')\n",
        "print('Worst Model Error, Index')\n",
        "print(round(max(model_results['overall']['mae']), 4))\n",
        "print(model_results['overall']['mae'].index(max(model_results['overall']['mae'])))\n",
        "\n",
        "print('')\n",
        "print(np.array(model_results['overall']['mae']).mean().round(4))\n",
        "print(np.array(model_results['overall']['mae']).var().round(4))"
      ],
      "execution_count": null,
      "outputs": [
        {
          "output_type": "stream",
          "text": [
            "Best Model Error, Index\n",
            "2.789\n",
            "16\n",
            "\n",
            "Worst Model Error, Index\n",
            "4.2691\n",
            "28\n",
            "\n",
            "3.7092\n",
            "0.0877\n"
          ],
          "name": "stdout"
        }
      ]
    },
    {
      "cell_type": "code",
      "metadata": {
        "colab": {
          "base_uri": "https://localhost:8080/",
          "height": 227
        },
        "id": "lXVLEKd1to35",
        "outputId": "69c9da69-94ec-4110-b75f-1f357536e317"
      },
      "source": [
        "# Average Error by Combination\n",
        "# ---------------------------\n",
        "\n",
        "predictions[['study_group', 'cluster2019_base', 'mae']]\\\n",
        "  .groupby(['study_group', 'cluster2019_base'])\\\n",
        "  .mean()\\\n",
        "  .reset_index()"
      ],
      "execution_count": null,
      "outputs": [
        {
          "output_type": "execute_result",
          "data": {
            "text/html": [
              "<div>\n",
              "<style scoped>\n",
              "    .dataframe tbody tr th:only-of-type {\n",
              "        vertical-align: middle;\n",
              "    }\n",
              "\n",
              "    .dataframe tbody tr th {\n",
              "        vertical-align: top;\n",
              "    }\n",
              "\n",
              "    .dataframe thead th {\n",
              "        text-align: right;\n",
              "    }\n",
              "</style>\n",
              "<table border=\"1\" class=\"dataframe\">\n",
              "  <thead>\n",
              "    <tr style=\"text-align: right;\">\n",
              "      <th></th>\n",
              "      <th>study_group</th>\n",
              "      <th>cluster2019_base</th>\n",
              "      <th>mae</th>\n",
              "    </tr>\n",
              "  </thead>\n",
              "  <tbody>\n",
              "    <tr>\n",
              "      <th>0</th>\n",
              "      <td>1</td>\n",
              "      <td>1</td>\n",
              "      <td>5.559887</td>\n",
              "    </tr>\n",
              "    <tr>\n",
              "      <th>1</th>\n",
              "      <td>1</td>\n",
              "      <td>2</td>\n",
              "      <td>3.198477</td>\n",
              "    </tr>\n",
              "    <tr>\n",
              "      <th>2</th>\n",
              "      <td>1</td>\n",
              "      <td>3</td>\n",
              "      <td>1.683557</td>\n",
              "    </tr>\n",
              "    <tr>\n",
              "      <th>3</th>\n",
              "      <td>3</td>\n",
              "      <td>1</td>\n",
              "      <td>4.527698</td>\n",
              "    </tr>\n",
              "    <tr>\n",
              "      <th>4</th>\n",
              "      <td>3</td>\n",
              "      <td>2</td>\n",
              "      <td>3.821655</td>\n",
              "    </tr>\n",
              "    <tr>\n",
              "      <th>5</th>\n",
              "      <td>3</td>\n",
              "      <td>3</td>\n",
              "      <td>1.816898</td>\n",
              "    </tr>\n",
              "  </tbody>\n",
              "</table>\n",
              "</div>"
            ],
            "text/plain": [
              "   study_group  cluster2019_base       mae\n",
              "0            1                 1  5.559887\n",
              "1            1                 2  3.198477\n",
              "2            1                 3  1.683557\n",
              "3            3                 1  4.527698\n",
              "4            3                 2  3.821655\n",
              "5            3                 3  1.816898"
            ]
          },
          "metadata": {
            "tags": []
          },
          "execution_count": 660
        }
      ]
    },
    {
      "cell_type": "code",
      "metadata": {
        "colab": {
          "base_uri": "https://localhost:8080/",
          "height": 137
        },
        "id": "6tEKywCMWo5M",
        "outputId": "aa06e62f-8340-4ad8-b35e-d298db6af651"
      },
      "source": [
        "# Average Error by Combination\n",
        "# ---------------------------\n",
        "\n",
        "predictions[['cluster2019_base', 'mae']]\\\n",
        "  .groupby(['cluster2019_base'])\\\n",
        "  .mean()\\\n",
        "  .reset_index()"
      ],
      "execution_count": null,
      "outputs": [
        {
          "output_type": "execute_result",
          "data": {
            "text/html": [
              "<div>\n",
              "<style scoped>\n",
              "    .dataframe tbody tr th:only-of-type {\n",
              "        vertical-align: middle;\n",
              "    }\n",
              "\n",
              "    .dataframe tbody tr th {\n",
              "        vertical-align: top;\n",
              "    }\n",
              "\n",
              "    .dataframe thead th {\n",
              "        text-align: right;\n",
              "    }\n",
              "</style>\n",
              "<table border=\"1\" class=\"dataframe\">\n",
              "  <thead>\n",
              "    <tr style=\"text-align: right;\">\n",
              "      <th></th>\n",
              "      <th>cluster2019_base</th>\n",
              "      <th>mae</th>\n",
              "    </tr>\n",
              "  </thead>\n",
              "  <tbody>\n",
              "    <tr>\n",
              "      <th>0</th>\n",
              "      <td>1</td>\n",
              "      <td>5.003570</td>\n",
              "    </tr>\n",
              "    <tr>\n",
              "      <th>1</th>\n",
              "      <td>2</td>\n",
              "      <td>3.476736</td>\n",
              "    </tr>\n",
              "    <tr>\n",
              "      <th>2</th>\n",
              "      <td>3</td>\n",
              "      <td>1.751562</td>\n",
              "    </tr>\n",
              "  </tbody>\n",
              "</table>\n",
              "</div>"
            ],
            "text/plain": [
              "   cluster2019_base       mae\n",
              "0                 1  5.003570\n",
              "1                 2  3.476736\n",
              "2                 3  1.751562"
            ]
          },
          "metadata": {
            "tags": []
          },
          "execution_count": 661
        }
      ]
    },
    {
      "cell_type": "code",
      "metadata": {
        "colab": {
          "base_uri": "https://localhost:8080/"
        },
        "id": "IFJJomGbtugA",
        "outputId": "9087a630-0c4e-4991-ad6a-2043c1dd0eb3"
      },
      "source": [
        "# Overall Error/Variance by SG/Subgroup\n",
        "# ---------------------------\n",
        "print(f\"HPD: {predictions.loc[predictions.cluster2019_base == 1]['mae'].mean()}\")\n",
        "print(f\"HPA: {predictions.loc[predictions.cluster2019_base == 2]['mae'].mean()}\")\n",
        "print(f\"LPA: {predictions.loc[predictions.cluster2019_base == 3]['mae'].mean()}\")\n",
        "\n",
        "print()\n",
        "print(f\"EDU: {predictions.loc[predictions.study_group == 1]['mae'].mean()}\")\n",
        "print(f\"CBT: {predictions.loc[predictions.study_group == 3]['mae'].mean()}\")"
      ],
      "execution_count": null,
      "outputs": [
        {
          "output_type": "stream",
          "text": [
            "HPD: 5.0035698159235515\n",
            "HPA: 3.4767362789901872\n",
            "LPA: 1.7515616163339751\n",
            "\n",
            "EDU: 3.7201863097371586\n",
            "CBT: 3.697992116635559\n"
          ],
          "name": "stdout"
        }
      ]
    },
    {
      "cell_type": "markdown",
      "metadata": {
        "id": "nCk2dSVGtzTl"
      },
      "source": [
        "### Visualizations\n",
        "---"
      ]
    },
    {
      "cell_type": "code",
      "metadata": {
        "id": "rs7YepNYtxfx"
      },
      "source": [
        "# Prep data to graph Results\n",
        "df_treatment_mae = pd.melt(pd.DataFrame({\n",
        "    'CBT': model_results['study_group']['CBT']['mae'],\n",
        "    'EDU': model_results['study_group']['EDU']['mae']\n",
        "}))\n",
        "\n",
        "df_subgroup_mae = pd.melt(pd.DataFrame({\n",
        "    'HPD': model_results['fap_subgroup']['HPD']['mae'],\n",
        "    'HPA': model_results['fap_subgroup']['HPA']['mae'],\n",
        "    'LPA': model_results['fap_subgroup']['LPA']['mae']\n",
        "}))"
      ],
      "execution_count": null,
      "outputs": []
    },
    {
      "cell_type": "code",
      "metadata": {
        "colab": {
          "base_uri": "https://localhost:8080/",
          "height": 388
        },
        "id": "QZ_rEqRDt5hm",
        "outputId": "f675daf7-4b02-4d9f-cf1e-db24f39f3a67"
      },
      "source": [
        "# ERROR by subgroup\n",
        "# ---------------------------\n",
        "rcParams['figure.figsize'] = 8,6\n",
        "\n",
        "fig = sns.kdeplot(\n",
        "    # data=df_treatment_mae,\n",
        "    data=df_subgroup_mae,\n",
        "    x='value',\n",
        "    hue='variable',\n",
        "    shade=True,\n",
        "    alpha=.3,\n",
        ");\n",
        "\n",
        "# plt.xlabel('MAE');\n",
        "\n",
        "# plt.savefig('api_delta_error')"
      ],
      "execution_count": null,
      "outputs": [
        {
          "output_type": "display_data",
          "data": {
            "image/png": "[encoded data removed]",
            "text/plain": [
              "<Figure size 576x432 with 1 Axes>"
            ]
          },
          "metadata": {
            "tags": [],
            "needs_background": "light"
          }
        }
      ]
    },
    {
      "cell_type": "code",
      "metadata": {
        "colab": {
          "base_uri": "https://localhost:8080/",
          "height": 497
        },
        "id": "wQvlzuf3t9Lo",
        "outputId": "272e5b85-0520-46d2-8862-362cd98df1c2"
      },
      "source": [
        "# Distribution of Predictions\n",
        "# ---------------------------\n",
        "rcParams['figure.figsize'] = 15, 8\n",
        "fig, ax = plt.subplots(1,2, sharex=True)\n",
        "\n",
        "sns.kdeplot(\n",
        "    data=predictions,\n",
        "    x='prediction',\n",
        "    shade=True,\n",
        "    alpha=.5,\n",
        "    hue = 'cluster2019_base',\n",
        "    common_norm = True,\n",
        "    ax=ax[0]\n",
        ");\n",
        "\n",
        "sns.kdeplot(\n",
        "    data=predictions,\n",
        "    x='prediction',\n",
        "    shade=True,\n",
        "    alpha=.5,\n",
        "    hue='study_group',\n",
        "    common_norm = False,\n",
        "    ax=ax[1]\n",
        ");\n",
        "\n",
        "\n",
        "# plt.savefig('api_delta_prediction')"
      ],
      "execution_count": null,
      "outputs": [
        {
          "output_type": "display_data",
          "data": {
            "image/png": "[encoded data removed]",
            "text/plain": [
              "<Figure size 1080x576 with 2 Axes>"
            ]
          },
          "metadata": {
            "tags": [],
            "needs_background": "light"
          }
        }
      ]
    },
    {
      "cell_type": "code",
      "metadata": {
        "colab": {
          "base_uri": "https://localhost:8080/",
          "height": 705
        },
        "id": "g9xCkegeAEot",
        "outputId": "a66266f1-16f2-49cd-c3ad-b01d6f72510f"
      },
      "source": [
        "### Predictions - Treatment (study group) by FAP Subgroup\n",
        "# rcParams['figure.figsize'] = 15, 8\n",
        "fig, ax = plt.subplots(nrows = 2, ncols=3, sharex=True, sharey=True, figsize=(20,16))\n",
        "\n",
        "# HPD\n",
        "sns.kdeplot(\n",
        "    data=predictions.loc[predictions.cluster2019_base==1],\n",
        "    x='prediction',\n",
        "    shade=True,\n",
        "    alpha=.5,\n",
        "    hue = 'study_group',\n",
        "    ax = ax[0, 0]\n",
        ");\n",
        "\n",
        "fig = sns.kdeplot(\n",
        "    data = predictions.loc[predictions.cluster2019_base==1],\n",
        "    x = outcome_var,\n",
        "    shade = True,\n",
        "    alpha = .5,\n",
        "    hue = 'study_group',\n",
        "    ax = ax[1, 0]\n",
        ");\n",
        "\n",
        "# HPA\n",
        "sns.kdeplot(\n",
        "    data=predictions.loc[predictions.cluster2019_base==2],\n",
        "    x='prediction',\n",
        "    shade=True,\n",
        "    alpha=.5,\n",
        "    hue = 'study_group',\n",
        "    ax = ax[0, 1]\n",
        ");\n",
        "fig = sns.kdeplot(\n",
        "    data = predictions.loc[predictions.cluster2019_base==2],\n",
        "    x = outcome_var,\n",
        "    shade = True,\n",
        "    alpha = .5,\n",
        "    hue = 'study_group',\n",
        "    ax = ax[1, 1]\n",
        ");\n",
        "\n",
        "\n",
        "# LPA\n",
        "fig = sns.kdeplot(\n",
        "    data=predictions.loc[predictions.cluster2019_base==3],\n",
        "    x='prediction',\n",
        "    shade=True,\n",
        "    alpha=.5,\n",
        "    hue = 'study_group',\n",
        "    ax = ax[0, 2]\n",
        "    # common_norm = True\n",
        ");\n",
        "fig = sns.kdeplot(\n",
        "    data = predictions.loc[predictions.cluster2019_base==3],\n",
        "    x = outcome_var,\n",
        "    shade = True,\n",
        "    alpha = .5,\n",
        "    hue = 'study_group',\n",
        "    ax = ax[1, 2]\n",
        ");\n",
        "\n",
        "\n",
        "# plt.xlabel(\"Prediction - CSI GI Impact\");"
      ],
      "execution_count": null,
      "outputs": [
        {
          "output_type": "display_data",
          "data": {
            "image/png": "[encoded data removed]",
            "text/plain": [
              "<Figure size 1440x1152 with 6 Axes>"
            ]
          },
          "metadata": {
            "tags": [],
            "needs_background": "light"
          }
        }
      ]
    },
    {
      "cell_type": "code",
      "metadata": {
        "colab": {
          "base_uri": "https://localhost:8080/",
          "height": 497
        },
        "id": "3xo1AfTU9O5G",
        "outputId": "9b32e6a6-967e-4371-ce1d-398c2aecc0ff"
      },
      "source": [
        "### Actual Delta - Treatment (study group) by FAP Subgroup\n",
        "fig = sns.kdeplot(\n",
        "    data=predictions,\n",
        "    x= outcome_var,\n",
        "    shade=True,\n",
        "    alpha=.5,\n",
        "    hue = 'cluster2019_base',\n",
        "    # common_norm = True\n",
        ");\n",
        "\n",
        "# plt.savefig('api_delta_actual')"
      ],
      "execution_count": null,
      "outputs": [
        {
          "output_type": "display_data",
          "data": {
            "image/png": "[encoded data removed]",
            "text/plain": [
              "<Figure size 1080x576 with 1 Axes>"
            ]
          },
          "metadata": {
            "tags": [],
            "needs_background": "light"
          }
        }
      ]
    },
    {
      "cell_type": "code",
      "metadata": {
        "colab": {
          "base_uri": "https://localhost:8080/",
          "height": 497
        },
        "id": "Rgv8ncFdAnje",
        "outputId": "4aab025e-831f-406d-e9d1-ecf960901db3"
      },
      "source": [
        "### Actual Delta - Treatment (study group) by FAP Subgroup\n",
        "fig = sns.kdeplot(\n",
        "    data=predictions.loc[predictions.cluster2019_base==1],\n",
        "    x = outcome_var,\n",
        "    shade=True,\n",
        "    alpha=.5,\n",
        "    hue = 'study_group',\n",
        "    # common_norm = True\n",
        ");\n",
        "\n",
        "# plt.xlabel(\"Prediction - CSI GI Impact\");\n",
        "# plt.savefig('api_delta_actual')"
      ],
      "execution_count": null,
      "outputs": [
        {
          "output_type": "display_data",
          "data": {
            "image/png": "[encoded data removed]",
            "text/plain": [
              "<Figure size 1080x576 with 1 Axes>"
            ]
          },
          "metadata": {
            "tags": [],
            "needs_background": "light"
          }
        }
      ]
    },
    {
      "cell_type": "markdown",
      "metadata": {
        "id": "mVmbPqkAuF1F"
      },
      "source": [
        "### Feature Importance\n",
        "---"
      ]
    },
    {
      "cell_type": "code",
      "metadata": {
        "id": "i1FmembuuHn2",
        "colab": {
          "base_uri": "https://localhost:8080/"
        },
        "outputId": "bb2fa08d-0847-4368-c6e0-5a6309a2569f"
      },
      "source": [
        "## FEATURE IMPORTANCE\n",
        "# ---------------------------\n",
        "# X_data_scaled or X_data_subset\n",
        "\n",
        "# cols = X_data_subset.columns.values\n",
        "# cols = X_data.columns.values\n",
        "# cols = X_data_subset_20.columns.values\n",
        "# cols = X_data_subset_15.columns.values\n",
        "# cols = X_data_subset_top.columns.values\n",
        "\n",
        "feature_import = [x[0].feature_importances_ for x in model_store]\n",
        "\n",
        "df_feature_import = pd.DataFrame(\n",
        "    columns = cols,\n",
        "    data = feature_import)"
      ],
      "execution_count": null,
      "outputs": [
        {
          "output_type": "error",
          "ename": "ValueError",
          "evalue": "ignored",
          "traceback": [
            "\u001b[0;31m---------------------------------------------------------------------------\u001b[0m",
            "\u001b[0;31mAssertionError\u001b[0m                            Traceback (most recent call last)",
            "\u001b[0;32m/usr/local/lib/python3.7/dist-packages/pandas/core/internals/construction.py\u001b[0m in \u001b[0;36m_list_to_arrays\u001b[0;34m(data, columns, coerce_float, dtype)\u001b[0m\n\u001b[1;32m    563\u001b[0m     \u001b[0;32mtry\u001b[0m\u001b[0;34m:\u001b[0m\u001b[0;34m\u001b[0m\u001b[0;34m\u001b[0m\u001b[0m\n\u001b[0;32m--> 564\u001b[0;31m         \u001b[0mcolumns\u001b[0m \u001b[0;34m=\u001b[0m \u001b[0m_validate_or_indexify_columns\u001b[0m\u001b[0;34m(\u001b[0m\u001b[0mcontent\u001b[0m\u001b[0;34m,\u001b[0m \u001b[0mcolumns\u001b[0m\u001b[0;34m)\u001b[0m\u001b[0;34m\u001b[0m\u001b[0;34m\u001b[0m\u001b[0m\n\u001b[0m\u001b[1;32m    565\u001b[0m         \u001b[0mresult\u001b[0m \u001b[0;34m=\u001b[0m \u001b[0m_convert_object_array\u001b[0m\u001b[0;34m(\u001b[0m\u001b[0mcontent\u001b[0m\u001b[0;34m,\u001b[0m \u001b[0mdtype\u001b[0m\u001b[0;34m=\u001b[0m\u001b[0mdtype\u001b[0m\u001b[0;34m,\u001b[0m \u001b[0mcoerce_float\u001b[0m\u001b[0;34m=\u001b[0m\u001b[0mcoerce_float\u001b[0m\u001b[0;34m)\u001b[0m\u001b[0;34m\u001b[0m\u001b[0;34m\u001b[0m\u001b[0m\n",
            "\u001b[0;32m/usr/local/lib/python3.7/dist-packages/pandas/core/internals/construction.py\u001b[0m in \u001b[0;36m_validate_or_indexify_columns\u001b[0;34m(content, columns)\u001b[0m\n\u001b[1;32m    688\u001b[0m             raise AssertionError(\n\u001b[0;32m--> 689\u001b[0;31m                 \u001b[0;34mf\"{len(columns)} columns passed, passed data had \"\u001b[0m\u001b[0;34m\u001b[0m\u001b[0;34m\u001b[0m\u001b[0m\n\u001b[0m\u001b[1;32m    690\u001b[0m                 \u001b[0;34mf\"{len(content)} columns\"\u001b[0m\u001b[0;34m\u001b[0m\u001b[0;34m\u001b[0m\u001b[0m\n",
            "\u001b[0;31mAssertionError\u001b[0m: 49 columns passed, passed data had 38 columns",
            "\nThe above exception was the direct cause of the following exception:\n",
            "\u001b[0;31mValueError\u001b[0m                                Traceback (most recent call last)",
            "\u001b[0;32m<ipython-input-637-f71873f97bee>\u001b[0m in \u001b[0;36m<module>\u001b[0;34m()\u001b[0m\n\u001b[1;32m     13\u001b[0m df_feature_import = pd.DataFrame(\n\u001b[1;32m     14\u001b[0m     \u001b[0mcolumns\u001b[0m \u001b[0;34m=\u001b[0m \u001b[0mcols\u001b[0m\u001b[0;34m,\u001b[0m\u001b[0;34m\u001b[0m\u001b[0;34m\u001b[0m\u001b[0m\n\u001b[0;32m---> 15\u001b[0;31m     data = feature_import)\n\u001b[0m",
            "\u001b[0;32m/usr/local/lib/python3.7/dist-packages/pandas/core/frame.py\u001b[0m in \u001b[0;36m__init__\u001b[0;34m(self, data, index, columns, dtype, copy)\u001b[0m\n\u001b[1;32m    507\u001b[0m                     \u001b[0;32mif\u001b[0m \u001b[0mis_named_tuple\u001b[0m\u001b[0;34m(\u001b[0m\u001b[0mdata\u001b[0m\u001b[0;34m[\u001b[0m\u001b[0;36m0\u001b[0m\u001b[0;34m]\u001b[0m\u001b[0;34m)\u001b[0m \u001b[0;32mand\u001b[0m \u001b[0mcolumns\u001b[0m \u001b[0;32mis\u001b[0m \u001b[0;32mNone\u001b[0m\u001b[0;34m:\u001b[0m\u001b[0;34m\u001b[0m\u001b[0;34m\u001b[0m\u001b[0m\n\u001b[1;32m    508\u001b[0m                         \u001b[0mcolumns\u001b[0m \u001b[0;34m=\u001b[0m \u001b[0mdata\u001b[0m\u001b[0;34m[\u001b[0m\u001b[0;36m0\u001b[0m\u001b[0;34m]\u001b[0m\u001b[0;34m.\u001b[0m\u001b[0m_fields\u001b[0m\u001b[0;34m\u001b[0m\u001b[0;34m\u001b[0m\u001b[0m\n\u001b[0;32m--> 509\u001b[0;31m                     \u001b[0marrays\u001b[0m\u001b[0;34m,\u001b[0m \u001b[0mcolumns\u001b[0m \u001b[0;34m=\u001b[0m \u001b[0mto_arrays\u001b[0m\u001b[0;34m(\u001b[0m\u001b[0mdata\u001b[0m\u001b[0;34m,\u001b[0m \u001b[0mcolumns\u001b[0m\u001b[0;34m,\u001b[0m \u001b[0mdtype\u001b[0m\u001b[0;34m=\u001b[0m\u001b[0mdtype\u001b[0m\u001b[0;34m)\u001b[0m\u001b[0;34m\u001b[0m\u001b[0;34m\u001b[0m\u001b[0m\n\u001b[0m\u001b[1;32m    510\u001b[0m                     \u001b[0mcolumns\u001b[0m \u001b[0;34m=\u001b[0m \u001b[0mensure_index\u001b[0m\u001b[0;34m(\u001b[0m\u001b[0mcolumns\u001b[0m\u001b[0;34m)\u001b[0m\u001b[0;34m\u001b[0m\u001b[0;34m\u001b[0m\u001b[0m\n\u001b[1;32m    511\u001b[0m \u001b[0;34m\u001b[0m\u001b[0m\n",
            "\u001b[0;32m/usr/local/lib/python3.7/dist-packages/pandas/core/internals/construction.py\u001b[0m in \u001b[0;36mto_arrays\u001b[0;34m(data, columns, coerce_float, dtype)\u001b[0m\n\u001b[1;32m    546\u001b[0m         \u001b[0;31m# last ditch effort\u001b[0m\u001b[0;34m\u001b[0m\u001b[0;34m\u001b[0m\u001b[0;34m\u001b[0m\u001b[0m\n\u001b[1;32m    547\u001b[0m         \u001b[0mdata\u001b[0m \u001b[0;34m=\u001b[0m \u001b[0;34m[\u001b[0m\u001b[0mtuple\u001b[0m\u001b[0;34m(\u001b[0m\u001b[0mx\u001b[0m\u001b[0;34m)\u001b[0m \u001b[0;32mfor\u001b[0m \u001b[0mx\u001b[0m \u001b[0;32min\u001b[0m \u001b[0mdata\u001b[0m\u001b[0;34m]\u001b[0m\u001b[0;34m\u001b[0m\u001b[0;34m\u001b[0m\u001b[0m\n\u001b[0;32m--> 548\u001b[0;31m         \u001b[0;32mreturn\u001b[0m \u001b[0m_list_to_arrays\u001b[0m\u001b[0;34m(\u001b[0m\u001b[0mdata\u001b[0m\u001b[0;34m,\u001b[0m \u001b[0mcolumns\u001b[0m\u001b[0;34m,\u001b[0m \u001b[0mcoerce_float\u001b[0m\u001b[0;34m=\u001b[0m\u001b[0mcoerce_float\u001b[0m\u001b[0;34m,\u001b[0m \u001b[0mdtype\u001b[0m\u001b[0;34m=\u001b[0m\u001b[0mdtype\u001b[0m\u001b[0;34m)\u001b[0m\u001b[0;34m\u001b[0m\u001b[0;34m\u001b[0m\u001b[0m\n\u001b[0m\u001b[1;32m    549\u001b[0m \u001b[0;34m\u001b[0m\u001b[0m\n\u001b[1;32m    550\u001b[0m \u001b[0;34m\u001b[0m\u001b[0m\n",
            "\u001b[0;32m/usr/local/lib/python3.7/dist-packages/pandas/core/internals/construction.py\u001b[0m in \u001b[0;36m_list_to_arrays\u001b[0;34m(data, columns, coerce_float, dtype)\u001b[0m\n\u001b[1;32m    565\u001b[0m         \u001b[0mresult\u001b[0m \u001b[0;34m=\u001b[0m \u001b[0m_convert_object_array\u001b[0m\u001b[0;34m(\u001b[0m\u001b[0mcontent\u001b[0m\u001b[0;34m,\u001b[0m \u001b[0mdtype\u001b[0m\u001b[0;34m=\u001b[0m\u001b[0mdtype\u001b[0m\u001b[0;34m,\u001b[0m \u001b[0mcoerce_float\u001b[0m\u001b[0;34m=\u001b[0m\u001b[0mcoerce_float\u001b[0m\u001b[0;34m)\u001b[0m\u001b[0;34m\u001b[0m\u001b[0;34m\u001b[0m\u001b[0m\n\u001b[1;32m    566\u001b[0m     \u001b[0;32mexcept\u001b[0m \u001b[0mAssertionError\u001b[0m \u001b[0;32mas\u001b[0m \u001b[0me\u001b[0m\u001b[0;34m:\u001b[0m\u001b[0;34m\u001b[0m\u001b[0;34m\u001b[0m\u001b[0m\n\u001b[0;32m--> 567\u001b[0;31m         \u001b[0;32mraise\u001b[0m \u001b[0mValueError\u001b[0m\u001b[0;34m(\u001b[0m\u001b[0me\u001b[0m\u001b[0;34m)\u001b[0m \u001b[0;32mfrom\u001b[0m \u001b[0me\u001b[0m\u001b[0;34m\u001b[0m\u001b[0;34m\u001b[0m\u001b[0m\n\u001b[0m\u001b[1;32m    568\u001b[0m     \u001b[0;32mreturn\u001b[0m \u001b[0mresult\u001b[0m\u001b[0;34m,\u001b[0m \u001b[0mcolumns\u001b[0m\u001b[0;34m\u001b[0m\u001b[0;34m\u001b[0m\u001b[0m\n\u001b[1;32m    569\u001b[0m \u001b[0;34m\u001b[0m\u001b[0m\n",
            "\u001b[0;31mValueError\u001b[0m: 49 columns passed, passed data had 38 columns"
          ]
        }
      ]
    },
    {
      "cell_type": "code",
      "metadata": {
        "id": "t8MKPu-kCjdQ"
      },
      "source": [
        "# TOP X ON AVERAGE\n",
        "# ---------------------------\n",
        "df_feature_import.mean().sort_values(ascending = False)[:15]"
      ],
      "execution_count": null,
      "outputs": []
    },
    {
      "cell_type": "code",
      "metadata": {
        "colab": {
          "base_uri": "https://localhost:8080/"
        },
        "id": "Xc-QVgQMueVE",
        "outputId": "84060789-190f-48b9-8650-c4dbf4791d21"
      },
      "source": [
        "# TOP X - BEST MODEL\n",
        "# ---------------------------\n",
        "\n",
        "# get index with lowest error\n",
        "best_idx = model_results['overall']['mae'].index(min(model_results['overall']['mae']))\n",
        "\n",
        "df_feature_import.iloc[best_idx].sort_values(ascending = False)[:15]"
      ],
      "execution_count": null,
      "outputs": [
        {
          "output_type": "execute_result",
          "data": {
            "text/plain": [
              "prsleep3_txfap       0.205371\n",
              "fdi12_txfap          0.162853\n",
              "promis_anx5_txfap    0.158968\n",
              "pbq9_txfap           0.104029\n",
              "fdi8_txfap           0.077124\n",
              "pbq3_txfap           0.063996\n",
              "pbq10_txfap          0.048012\n",
              "cdi9_txfap           0.045107\n",
              "pcsc12_txfap         0.031201\n",
              "study_group          0.024020\n",
              "csi3_txfap           0.019582\n",
              "csi1_txfap           0.017093\n",
              "pbq1_txfap           0.016077\n",
              "cdi10_txfap          0.012046\n",
              "prsleep4_txfap       0.005955\n",
              "Name: 41, dtype: float64"
            ]
          },
          "metadata": {
            "tags": []
          },
          "execution_count": 569
        }
      ]
    },
    {
      "cell_type": "markdown",
      "metadata": {
        "id": "fzf-5sPDu1li"
      },
      "source": [
        "### Best Model Params\n",
        "---"
      ]
    },
    {
      "cell_type": "code",
      "metadata": {
        "colab": {
          "base_uri": "https://localhost:8080/"
        },
        "id": "fj0LDLyau3e1",
        "outputId": "69281039-c77a-4264-aa74-6aef85e12d47"
      },
      "source": [
        "model_store[best_idx]"
      ],
      "execution_count": null,
      "outputs": [
        {
          "output_type": "execute_result",
          "data": {
            "text/plain": [
              "RandomForestRegressor(bootstrap=True, ccp_alpha=0.0, criterion='mse',\n",
              "                      max_depth=10, max_features=0.20000000000000004,\n",
              "                      max_leaf_nodes=None, max_samples=None,\n",
              "                      min_impurity_decrease=0.0, min_impurity_split=None,\n",
              "                      min_samples_leaf=3, min_samples_split=5,\n",
              "                      min_weight_fraction_leaf=0.0, n_estimators=80,\n",
              "                      n_jobs=None, oob_score=False, random_state=None,\n",
              "                      verbose=0, warm_start=False)"
            ]
          },
          "metadata": {
            "tags": []
          },
          "execution_count": 669
        }
      ]
    },
    {
      "cell_type": "code",
      "metadata": {
        "colab": {
          "base_uri": "https://localhost:8080/",
          "height": 138
        },
        "id": "3v1p8RzsTnBg",
        "outputId": "f7fc6d30-b964-4931-ee34-b093268cf897"
      },
      "source": [
        "# Best Model Performance - Average Error by Combination\n",
        "# ---------------------------\n",
        "# n = 50, 184 records\n",
        "predictions_best_model = predictions[(best_idx*184):((best_idx+1)*184)]\n",
        "\n",
        "\n",
        "predictions_best_model[['cluster2019_base', 'mae']]\\\n",
        "  .groupby(['cluster2019_base'])\\\n",
        "  .mean()\\\n",
        "  .reset_index()"
      ],
      "execution_count": null,
      "outputs": [
        {
          "output_type": "execute_result",
          "data": {
            "text/html": [
              "<div>\n",
              "<style scoped>\n",
              "    .dataframe tbody tr th:only-of-type {\n",
              "        vertical-align: middle;\n",
              "    }\n",
              "\n",
              "    .dataframe tbody tr th {\n",
              "        vertical-align: top;\n",
              "    }\n",
              "\n",
              "    .dataframe thead th {\n",
              "        text-align: right;\n",
              "    }\n",
              "</style>\n",
              "<table border=\"1\" class=\"dataframe\">\n",
              "  <thead>\n",
              "    <tr style=\"text-align: right;\">\n",
              "      <th></th>\n",
              "      <th>cluster2019_base</th>\n",
              "      <th>mae</th>\n",
              "    </tr>\n",
              "  </thead>\n",
              "  <tbody>\n",
              "    <tr>\n",
              "      <th>0</th>\n",
              "      <td>1</td>\n",
              "      <td>4.564667</td>\n",
              "    </tr>\n",
              "    <tr>\n",
              "      <th>1</th>\n",
              "      <td>2</td>\n",
              "      <td>3.859434</td>\n",
              "    </tr>\n",
              "    <tr>\n",
              "      <th>2</th>\n",
              "      <td>3</td>\n",
              "      <td>1.735853</td>\n",
              "    </tr>\n",
              "  </tbody>\n",
              "</table>\n",
              "</div>"
            ],
            "text/plain": [
              "   cluster2019_base       mae\n",
              "0                 1  4.564667\n",
              "1                 2  3.859434\n",
              "2                 3  1.735853"
            ]
          },
          "metadata": {
            "tags": []
          },
          "execution_count": 670
        }
      ]
    },
    {
      "cell_type": "code",
      "metadata": {
        "id": "XvVCXRP6wIj9"
      },
      "source": [
        "# Export as dot file\n",
        "from sklearn.tree import export_graphviz\n",
        "\n",
        "export_graphviz(\n",
        "    model_store[best_idx].estimators_[10], \n",
        "    out_file='tree.dot', \n",
        "    feature_names = X_data.columns.values,\n",
        "    rounded = True, proportion = False, \n",
        "    precision = 2, filled = True);\n",
        "\n",
        "plt.figure(figsize=(6,6));"
      ],
      "execution_count": null,
      "outputs": []
    },
    {
      "cell_type": "code",
      "metadata": {
        "id": "P2w7RLlV2PAI"
      },
      "source": [
        "# Display in jupyter notebook\n",
        "from subprocess import call\n",
        "from IPython.display import Image\n",
        "\n",
        "call(['dot', '-Tpng', 'tree.dot', '-o', 'tree.png', '-Gdpi=600']);\n",
        "Image(filename = 'tree.png');"
      ],
      "execution_count": null,
      "outputs": []
    }
  ]
}